{
  "nbformat": 4,
  "nbformat_minor": 0,
  "metadata": {
    "colab": {
      "provenance": [],
      "authorship_tag": "ABX9TyOSMicO6V0HFwvIqVPl5fp5",
      "include_colab_link": true
    },
    "kernelspec": {
      "name": "python3",
      "display_name": "Python 3"
    },
    "language_info": {
      "name": "python"
    }
  },
  "cells": [
    {
      "cell_type": "markdown",
      "metadata": {
        "id": "view-in-github",
        "colab_type": "text"
      },
      "source": [
        "<a href=\"https://colab.research.google.com/github/prashu809/GROCERY-STORE-CALCULATOR-/blob/main/Casestudy1_202401100700137_B.ipynb\" target=\"_parent\"><img src=\"https://colab.research.google.com/assets/colab-badge.svg\" alt=\"Open In Colab\"/></a>"
      ]
    },
    {
      "cell_type": "code",
      "execution_count": null,
      "metadata": {
        "id": "kZ7pexUnQvaj"
      },
      "outputs": [],
      "source": [
        "#grocery store calculator\n",
        "print(\"Welcome\")\n",
        "print(\"rice\")\n",
        "item1 = int(input())\n",
        "print(\"tea\")\n",
        "item2 = int(input())\n",
        "print(\"soap\")\n",
        "item3 = int(input())\n",
        "print(\"water\")\n",
        "item4 = int(input())\n",
        "print(\"coffee\")\n",
        "item5 = int(input())\n",
        "print(\"bucket\")\n",
        "item6 = int(input())\n",
        "print(\"coke\")\n",
        "item7 = int(input())\n",
        "print(\"rice price is \",item1)\n",
        "print(\"tea price is \",item2)\n",
        "print(\"soap price is \",item3)\n",
        "print(\"water price is \",item4)\n",
        "print(\"coffee price is \",item5)\n",
        "print(\"bucket price is \",item6)\n",
        "print(\"coke price is \",item7)\n",
        "if( item == \"rice\"):\n",
        "  print(\"item found\")\n",
        "  quantity = int(input())\n",
        "  print(\"total  rice price is: \",quantity*150)\n",
        "  print(\"thankyou\")\n",
        "elif(item == \"soap\"):\n",
        "  print(\"item found\")\n",
        "  quantity = int(input())\n",
        "  print(\"total soap price is \",quantity*120)\n",
        "  print(\"thankyou\")\n",
        "elif(item == \"tea\"):\n",
        "  print(\"item found\")\n",
        "  quantity = int(input())\n",
        "  print(\"total tea price is \",quantity*100)\n",
        "  print(\"thankyou\")\n",
        "elif(item == \"water\"):\n",
        "  print(\"item found\")\n",
        "  quantity = int(input())\n",
        "  print(\"total water price is \",quantity*50)\n",
        "  print(\"thankyou\")\n",
        "elif(item == \"coffee\"):\n",
        "  print(\"item found\")\n",
        "  quantity = int(input())\n",
        "  print(\"total coffee price is \",quantity*120)\n",
        "  print(\"thankyou\")\n",
        "elif(item == \"bucket\"):\n",
        "  print(\"item found\")\n",
        "  quantity = int(input())\n",
        "  print(\"total bucket price is \",quantity*150)\n",
        "  print(\"thankyou\")\n",
        "elif(item == \"coke\"):\n",
        "  print(\"item found\")\n",
        "  quantity = int(input())\n",
        "  print(\"total coke price is \",quantity*50)\n",
        "  print(\"thankyou\")\n",
        "else:\n",
        "  print(\"item not found\")\n",
        "  print(\"thankyou\")\n",
        "print(\"Thankyou for coming\")\n",
        ""
      ]
    }
  ]
}